{
 "cells": [
  {
   "cell_type": "code",
   "execution_count": null,
   "metadata": {},
   "outputs": [],
   "source": [
    "import sklearn\n",
    "import pandas \n",
    "import plotly\n",
    "import math"
   ]
  },
  {
   "cell_type": "code",
   "execution_count": null,
   "metadata": {},
   "outputs": [],
   "source": [
    "#create name array for the file.\n",
    "input_names = [\"ID\",\"Result\",\"Mean_Radius\",\"Mean_Texture\",\"Mean_Perimeter\",\n",
    "                   \"Mean_Area\",\"Mean_Smoothness\",\"Mean_Compactness\", \"Mean_Concavity\",\n",
    "                   \"Mean_ConcavePoints\", \"Mean_Symmetry\",\"Mean_FractalDimension\",\n",
    "                   \"SE_Radius\",\"SE_Texture\",\"SE_Perimeter\",\"SE_Area\",\"SE_Smoothness\",\n",
    "                   \"SE_Compactness\",\"SE_Concavity\",\"SE_ConcavePoints\",\"SE_Symmetry\",\n",
    "                   \"SE_FractalDimension\",\"Worst_Radius\",\"Worst_Texture\",\"Worst_Perimeter\",\n",
    "                   \"Worst_Area\",\"Worst_Smoothness\",\"Worst_Compactness\",\"Worst_Concavity\",\n",
    "                   \"Worst_ConcavePoints\",\"Worst_Symmetry\",\"Worst_FractalDimension\"]"
   ]
  },
  {
   "cell_type": "code",
   "execution_count": null,
   "metadata": {},
   "outputs": [],
   "source": [
    "#read in the file and assign names. drop the un-needed ID column as jupyter adds an inbuilt ID column.\n",
    "data_Raw = pandas.read_csv(\"C:\\\\Users\\\\Admin\\\\Downloads\\\\BreastCancerData.csv\", header = None, names = input_names)\n",
    "data_Raw=data_Raw.drop(columns = [\"ID\"])"
   ]
  },
  {
   "cell_type": "code",
   "execution_count": null,
   "metadata": {
    "scrolled": true
   },
   "outputs": [],
   "source": [
    "#clone the data and get rid of the result column to allow for a test set.\n",
    "data_no_result = data_Raw\n",
    "data_no_result.drop(columns = [\"Result\"])"
   ]
  },
  {
   "cell_type": "code",
   "execution_count": null,
   "metadata": {
    "scrolled": true
   },
   "outputs": [],
   "source": [
    "data_Raw"
   ]
  },
  {
   "cell_type": "code",
   "execution_count": null,
   "metadata": {},
   "outputs": [],
   "source": [
    "df = pandas.DataFrame(data_Raw) "
   ]
  },
  {
   "cell_type": "code",
   "execution_count": null,
   "metadata": {
    "scrolled": true
   },
   "outputs": [],
   "source": [
    "columns_i_want = [\"Mean_Radius\",\"Mean_Texture\",\"Mean_Perimeter\",\n",
    "                   \"Mean_Area\",\"Mean_Smoothness\",\"Mean_Compactness\", \"Mean_Concavity\",\n",
    "                   \"Mean_ConcavePoints\", \"Mean_Symmetry\",\"Mean_FractalDimension\",\n",
    "                   \"SE_Radius\",\"SE_Texture\",\"SE_Perimeter\",\"SE_Area\",\"SE_Smoothness\",\n",
    "                   \"SE_Compactness\",\"SE_Concavity\",\"SE_ConcavePoints\",\"SE_Symmetry\",\n",
    "                   \"SE_FractalDimension\",\"Worst_Radius\",\"Worst_Texture\",\"Worst_Perimeter\",\n",
    "                   \"Worst_Area\",\"Worst_Smoothness\",\"Worst_Compactness\",\"Worst_Concavity\",\n",
    "                   \"Worst_ConcavePoints\",\"Worst_Symmetry\",\"Worst_FractalDimension\"]\n",
    "df1 = pandas.DataFrame(df, columns=columns_i_want)"
   ]
  },
  {
   "cell_type": "code",
   "execution_count": null,
   "metadata": {},
   "outputs": [],
   "source": [
    "df_norm=((df1 -df1.min())/(df1.max() -df1.min()))"
   ]
  },
  {
   "cell_type": "code",
   "execution_count": null,
   "metadata": {
    "scrolled": true
   },
   "outputs": [],
   "source": [
    "df_norm"
   ]
  },
  {
   "cell_type": "code",
   "execution_count": null,
   "metadata": {},
   "outputs": [],
   "source": [
    "df_answers = pandas.DataFrame(data_Raw, columns=[\"Result\"])"
   ]
  },
  {
   "cell_type": "code",
   "execution_count": null,
   "metadata": {
    "scrolled": true
   },
   "outputs": [],
   "source": [
    "df_train = pandas.concat([df_norm[:400],df_answers[:400]],axis=1, sort =False)"
   ]
  },
  {
   "cell_type": "code",
   "execution_count": null,
   "metadata": {
    "scrolled": true
   },
   "outputs": [],
   "source": [
    "df"
   ]
  },
  {
   "cell_type": "code",
   "execution_count": null,
   "metadata": {
    "scrolled": true
   },
   "outputs": [],
   "source": [
    "df_train"
   ]
  },
  {
   "cell_type": "code",
   "execution_count": null,
   "metadata": {},
   "outputs": [],
   "source": [
    "df_test = pandas.concat([df_norm[401:],df_answers[401:]],axis=1, sort =False)"
   ]
  },
  {
   "cell_type": "code",
   "execution_count": null,
   "metadata": {
    "scrolled": true
   },
   "outputs": [],
   "source": [
    "df_test"
   ]
  },
  {
   "cell_type": "code",
   "execution_count": null,
   "metadata": {},
   "outputs": [],
   "source": []
  }
 ],
 "metadata": {
  "language_info": {
   "codemirror_mode": {
    "name": "ipython",
    "version": 3
   },
   "file_extension": ".py",
   "mimetype": "text/x-python",
   "name": "python",
   "nbconvert_exporter": "python",
   "pygments_lexer": "ipython3",
   "version": "3.6.3"
  }
 },
 "nbformat": 4,
 "nbformat_minor": 2
}
